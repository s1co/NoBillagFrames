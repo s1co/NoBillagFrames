{
 "cells": [
  {
   "cell_type": "markdown",
   "metadata": {},
   "source": [
    "# Linear Model"
   ]
  },
  {
   "cell_type": "code",
   "execution_count": 5,
   "metadata": {},
   "outputs": [],
   "source": [
    "# Importiere Bibliotheken\n",
    "import sys\n",
    "import io\n",
    "import re\n",
    "import numpy as np\n",
    "import pandas as pd\n",
    "import nltk\n",
    "from nltk.corpus import stopwords"
   ]
  },
  {
   "cell_type": "code",
   "execution_count": 13,
   "metadata": {},
   "outputs": [
    {
     "data": {
      "text/html": [
       "<div>\n",
       "<table border=\"1\" class=\"dataframe\">\n",
       "  <thead>\n",
       "    <tr style=\"text-align: right;\">\n",
       "      <th></th>\n",
       "      <th>User</th>\n",
       "      <th>Tweet</th>\n",
       "      <th>Retweet</th>\n",
       "      <th>RT_from</th>\n",
       "      <th>Orig_Tweet</th>\n",
       "      <th>Tweet_Participants</th>\n",
       "      <th>Reply</th>\n",
       "      <th>Text</th>\n",
       "      <th>Tags</th>\n",
       "      <th>Lang</th>\n",
       "      <th>Link</th>\n",
       "      <th>Label</th>\n",
       "    </tr>\n",
       "    <tr>\n",
       "      <th>Datetime</th>\n",
       "      <th></th>\n",
       "      <th></th>\n",
       "      <th></th>\n",
       "      <th></th>\n",
       "      <th></th>\n",
       "      <th></th>\n",
       "      <th></th>\n",
       "      <th></th>\n",
       "      <th></th>\n",
       "      <th></th>\n",
       "      <th></th>\n",
       "      <th></th>\n",
       "    </tr>\n",
       "  </thead>\n",
       "  <tbody>\n",
       "    <tr>\n",
       "      <th>2018-01-18 17:07:00</th>\n",
       "      <td>@GeroldSchlegel</td>\n",
       "      <td>RT @redder66: @NatalieRickli @NoBillag Die Unt...</td>\n",
       "      <td>True</td>\n",
       "      <td>@redder66</td>\n",
       "      <td>False</td>\n",
       "      <td>[@NatalieRickli, @NoBillag, @SVPch]</td>\n",
       "      <td>False</td>\n",
       "      <td>Die Unterstützung der für die #NoBillag ergibt...</td>\n",
       "      <td>[NoBillag, NeinzuNoBillag]</td>\n",
       "      <td>de</td>\n",
       "      <td>[]</td>\n",
       "      <td>1</td>\n",
       "    </tr>\n",
       "    <tr>\n",
       "      <th>2017-12-23 13:53:00</th>\n",
       "      <td>@derlamentierer</td>\n",
       "      <td>@ProBillag auch sie haben das konzept von soli...</td>\n",
       "      <td>False</td>\n",
       "      <td>NaN</td>\n",
       "      <td>False</td>\n",
       "      <td>[@ProBillag]</td>\n",
       "      <td>True</td>\n",
       "      <td>auch sie haben das konzept von solidarität nic...</td>\n",
       "      <td>[nobillag, jazunobillag, NeinzuNoBillag]</td>\n",
       "      <td>de</td>\n",
       "      <td>[https://t.co/iFLeHBuSFS]</td>\n",
       "      <td>6</td>\n",
       "    </tr>\n",
       "    <tr>\n",
       "      <th>2017-12-05 19:47:00</th>\n",
       "      <td>@FlorianSchwab</td>\n",
       "      <td>RT @VitalSteiner: Was die Gegner von #NoBillag...</td>\n",
       "      <td>True</td>\n",
       "      <td>@VitalSteiner</td>\n",
       "      <td>False</td>\n",
       "      <td>[]</td>\n",
       "      <td>False</td>\n",
       "      <td>Was die Gegner von #NoBillag mit solchen Bilde...</td>\n",
       "      <td>[NoBillag]</td>\n",
       "      <td>de</td>\n",
       "      <td>[https://t.co/IKOSeftUlm]</td>\n",
       "      <td>6</td>\n",
       "    </tr>\n",
       "    <tr>\n",
       "      <th>2018-01-17 07:08:00</th>\n",
       "      <td>@Schweizer2018</td>\n",
       "      <td>RT @realDanielVozar: Wenn #NoBillag abgelehnt ...</td>\n",
       "      <td>True</td>\n",
       "      <td>@realDanielVozar</td>\n",
       "      <td>False</td>\n",
       "      <td>[@LHeimgartner]</td>\n",
       "      <td>False</td>\n",
       "      <td>Wenn #NoBillag abgelehnt wird, wird sich gar n...</td>\n",
       "      <td>[NoBillag, JazuNoBillag]</td>\n",
       "      <td>de</td>\n",
       "      <td>[]</td>\n",
       "      <td>5</td>\n",
       "    </tr>\n",
       "    <tr>\n",
       "      <th>2018-02-19 09:52:00</th>\n",
       "      <td>@PilgramsWords</td>\n",
       "      <td>RT @_macmike: #StarkesStück https://t.co/2L7uG...</td>\n",
       "      <td>True</td>\n",
       "      <td>@_macmike</td>\n",
       "      <td>False</td>\n",
       "      <td>[@Blickch, @20min, @bazonline]</td>\n",
       "      <td>False</td>\n",
       "      <td>#StarkesStück  #AfD #SVP #ARD #ZDF #ORF #SRF #...</td>\n",
       "      <td>[StarkesStück, AfD, SVP, ARD, ZDF, ORF, SRF, s...</td>\n",
       "      <td>de</td>\n",
       "      <td>[https://t.co/2L7uGmmVH0, https://t.co/5Wf6qJ1...</td>\n",
       "      <td>0</td>\n",
       "    </tr>\n",
       "  </tbody>\n",
       "</table>\n",
       "</div>"
      ],
      "text/plain": [
       "                                User  \\\n",
       "Datetime                               \n",
       "2018-01-18 17:07:00  @GeroldSchlegel   \n",
       "2017-12-23 13:53:00  @derlamentierer   \n",
       "2017-12-05 19:47:00   @FlorianSchwab   \n",
       "2018-01-17 07:08:00   @Schweizer2018   \n",
       "2018-02-19 09:52:00   @PilgramsWords   \n",
       "\n",
       "                                                                 Tweet  \\\n",
       "Datetime                                                                 \n",
       "2018-01-18 17:07:00  RT @redder66: @NatalieRickli @NoBillag Die Unt...   \n",
       "2017-12-23 13:53:00  @ProBillag auch sie haben das konzept von soli...   \n",
       "2017-12-05 19:47:00  RT @VitalSteiner: Was die Gegner von #NoBillag...   \n",
       "2018-01-17 07:08:00  RT @realDanielVozar: Wenn #NoBillag abgelehnt ...   \n",
       "2018-02-19 09:52:00  RT @_macmike: #StarkesStück https://t.co/2L7uG...   \n",
       "\n",
       "                    Retweet           RT_from Orig_Tweet  \\\n",
       "Datetime                                                   \n",
       "2018-01-18 17:07:00    True         @redder66      False   \n",
       "2017-12-23 13:53:00   False               NaN      False   \n",
       "2017-12-05 19:47:00    True     @VitalSteiner      False   \n",
       "2018-01-17 07:08:00    True  @realDanielVozar      False   \n",
       "2018-02-19 09:52:00    True         @_macmike      False   \n",
       "\n",
       "                                      Tweet_Participants  Reply  \\\n",
       "Datetime                                                          \n",
       "2018-01-18 17:07:00  [@NatalieRickli, @NoBillag, @SVPch]  False   \n",
       "2017-12-23 13:53:00                         [@ProBillag]   True   \n",
       "2017-12-05 19:47:00                                   []  False   \n",
       "2018-01-17 07:08:00                      [@LHeimgartner]  False   \n",
       "2018-02-19 09:52:00       [@Blickch, @20min, @bazonline]  False   \n",
       "\n",
       "                                                                  Text  \\\n",
       "Datetime                                                                 \n",
       "2018-01-18 17:07:00  Die Unterstützung der für die #NoBillag ergibt...   \n",
       "2017-12-23 13:53:00  auch sie haben das konzept von solidarität nic...   \n",
       "2017-12-05 19:47:00  Was die Gegner von #NoBillag mit solchen Bilde...   \n",
       "2018-01-17 07:08:00  Wenn #NoBillag abgelehnt wird, wird sich gar n...   \n",
       "2018-02-19 09:52:00  #StarkesStück  #AfD #SVP #ARD #ZDF #ORF #SRF #...   \n",
       "\n",
       "                                                                  Tags Lang  \\\n",
       "Datetime                                                                      \n",
       "2018-01-18 17:07:00                         [NoBillag, NeinzuNoBillag]   de   \n",
       "2017-12-23 13:53:00           [nobillag, jazunobillag, NeinzuNoBillag]   de   \n",
       "2017-12-05 19:47:00                                         [NoBillag]   de   \n",
       "2018-01-17 07:08:00                           [NoBillag, JazuNoBillag]   de   \n",
       "2018-02-19 09:52:00  [StarkesStück, AfD, SVP, ARD, ZDF, ORF, SRF, s...   de   \n",
       "\n",
       "                                                                  Link Label  \n",
       "Datetime                                                                      \n",
       "2018-01-18 17:07:00                                                 []     1  \n",
       "2017-12-23 13:53:00                          [https://t.co/iFLeHBuSFS]     6  \n",
       "2017-12-05 19:47:00                          [https://t.co/IKOSeftUlm]     6  \n",
       "2018-01-17 07:08:00                                                 []     5  \n",
       "2018-02-19 09:52:00  [https://t.co/2L7uGmmVH0, https://t.co/5Wf6qJ1...     0  "
      ]
     },
     "execution_count": 13,
     "metadata": {},
     "output_type": "execute_result"
    }
   ],
   "source": [
    "# Kodierte Daten einlesen\n",
    "data_labeled = pd.read_pickle('data_modified/tweets_labeled.pkl')\n",
    "data_labeled.head()"
   ]
  },
  {
   "cell_type": "code",
   "execution_count": 14,
   "metadata": {},
   "outputs": [
    {
     "name": "stdout",
     "output_type": "stream",
     "text": [
      "[nltk_data] Downloading package stopwords to\n",
      "[nltk_data]     /Users/scornehls/nltk_data...\n",
      "[nltk_data]   Package stopwords is already up-to-date!\n"
     ]
    }
   ],
   "source": [
    "# Funktionen definieren um Stoppworte zu entfernen & Daten weiter zu bereinigen\n",
    "nltk.download('stopwords')\n",
    "stopword_set = set(stopwords.words(\"german\"))\n",
    "def preprocess(raw_text):\n",
    "    res = raw_text\n",
    "    res = res.replace('ä', 'ae')\n",
    "    res = res.replace('ö', 'oe')\n",
    "    res = res.replace('ü', 'ue')\n",
    "    res = res.replace('Ä', 'Ae')\n",
    "    res = res.replace('Ö', 'Oe')\n",
    "    res = res.replace('Ü', 'Ue')\n",
    "    res = res.replace('ß', 'ss')\n",
    "    stopword_set = set(stopwords.words(\"german\"))\n",
    "    return \" \".join([i for i in re.sub(r'[^a-zA-Z\\s]', \"\", res).lower().split() if i not in stopword_set])"
   ]
  },
  {
   "cell_type": "code",
   "execution_count": 15,
   "metadata": {
    "collapsed": true
   },
   "outputs": [],
   "source": [
    "# Daten bereinigen und X und y Variablen legen\n",
    "texts=[]\n",
    "for txt in data_labeled['Text']:\n",
    "    txt=preprocess(txt)\n",
    "    texts.append(txt)\n",
    "labels = data_labeled['Label'].values"
   ]
  },
  {
   "cell_type": "code",
   "execution_count": 17,
   "metadata": {},
   "outputs": [
    {
     "name": "stderr",
     "output_type": "stream",
     "text": [
      "/Library/Frameworks/Python.framework/Versions/3.6/lib/python3.6/site-packages/sklearn/feature_extraction/text.py:1059: FutureWarning: Conversion of the second argument of issubdtype from `float` to `np.floating` is deprecated. In future, it will be treated as `np.float64 == np.dtype(float).type`.\n",
      "  if hasattr(X, 'dtype') and np.issubdtype(X.dtype, np.float):\n"
     ]
    },
    {
     "data": {
      "text/plain": [
       "<1034x5300 sparse matrix of type '<class 'numpy.float64'>'\n",
       "\twith 12311 stored elements in Compressed Sparse Row format>"
      ]
     },
     "execution_count": 17,
     "metadata": {},
     "output_type": "execute_result"
    }
   ],
   "source": [
    "# TF-IDF document-term matrix erstellen\n",
    "from sklearn.feature_extraction.text import CountVectorizer\n",
    "\n",
    "count_vect_x = CountVectorizer(min_df=1)\n",
    "X_counts= count_vect_x.fit_transform(texts)\n",
    "X_counts.shape\n",
    "\n",
    "from sklearn.feature_extraction.text import TfidfTransformer\n",
    "tfidf_transformer = TfidfTransformer()\n",
    "X_tfidf = tfidf_transformer.fit_transform(X_counts)\n",
    "X_tfidf"
   ]
  },
  {
   "cell_type": "code",
   "execution_count": 18,
   "metadata": {
    "collapsed": true
   },
   "outputs": [],
   "source": [
    "# test and train Daten definieren\n",
    "from sklearn.model_selection import train_test_split\n",
    "X_train, X_test, y_train, y_test = train_test_split(X_tfidf, labels, test_size=0.5, random_state=14)"
   ]
  },
  {
   "cell_type": "code",
   "execution_count": 19,
   "metadata": {},
   "outputs": [
    {
     "data": {
      "text/plain": [
       "LogisticRegression(C=1.0, class_weight=None, dual=False, fit_intercept=True,\n",
       "          intercept_scaling=1, max_iter=100, multi_class='ovr', n_jobs=1,\n",
       "          penalty='l2', random_state=None, solver='liblinear', tol=0.0001,\n",
       "          verbose=0, warm_start=False)"
      ]
     },
     "execution_count": 19,
     "metadata": {},
     "output_type": "execute_result"
    }
   ],
   "source": [
    "# Logistic Regression ausführen\n",
    "from sklearn import linear_model\n",
    "\n",
    "model1 = linear_model.LogisticRegression()\n",
    "model1.fit(X_train, y_train)"
   ]
  },
  {
   "cell_type": "code",
   "execution_count": 21,
   "metadata": {},
   "outputs": [
    {
     "name": "stdout",
     "output_type": "stream",
     "text": [
      "Accuracy: 0.38104448742746616\n"
     ]
    }
   ],
   "source": [
    "# Genauigkeit der Vorhersage ermitteln\n",
    "print(\"Accuracy: {}\".format(model1.score(X_test, y_test)))"
   ]
  },
  {
   "cell_type": "code",
   "execution_count": null,
   "metadata": {
    "collapsed": true
   },
   "outputs": [],
   "source": []
  }
 ],
 "metadata": {
  "kernelspec": {
   "display_name": "Python 3",
   "language": "python",
   "name": "python3"
  },
  "language_info": {
   "codemirror_mode": {
    "name": "ipython",
    "version": 3
   },
   "file_extension": ".py",
   "mimetype": "text/x-python",
   "name": "python",
   "nbconvert_exporter": "python",
   "pygments_lexer": "ipython3",
   "version": "3.6.5"
  }
 },
 "nbformat": 4,
 "nbformat_minor": 2
}
