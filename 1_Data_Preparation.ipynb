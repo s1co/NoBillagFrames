{
 "cells": [
  {
   "cell_type": "code",
   "execution_count": 1,
   "metadata": {},
   "outputs": [],
   "source": [
    "# Importiere Bibliotheken\n",
    "import os\n",
    "import re\n",
    "import numpy as np\n",
    "import pandas as pd\n",
    "from langdetect import detect"
   ]
  },
  {
   "cell_type": "code",
   "execution_count": 2,
   "metadata": {},
   "outputs": [],
   "source": [
    "# Daten einlesen und anschauen\n",
    "data_raw = pd.read_csv(\"data_input/allTweets.csv\", index_col=0)\n",
    "data_raw.head(5)\n",
    "data_raw.drop('X3', axis=1, inplace=True)"
   ]
  },
  {
   "cell_type": "code",
   "execution_count": 3,
   "metadata": {},
   "outputs": [
    {
     "name": "stdout",
     "output_type": "stream",
     "text": [
      "<class 'pandas.core.frame.DataFrame'>\n",
      "Int64Index: 107056 entries, 1 to 107056\n",
      "Data columns (total 3 columns):\n",
      "X1    107055 non-null object\n",
      "X2    107055 non-null object\n",
      "X4    107055 non-null object\n",
      "dtypes: object(3)\n",
      "memory usage: 3.3+ MB\n"
     ]
    }
   ],
   "source": [
    "data_raw.info()"
   ]
  },
  {
   "cell_type": "code",
   "execution_count": 4,
   "metadata": {},
   "outputs": [
    {
     "data": {
      "text/html": [
       "<div>\n",
       "<style scoped>\n",
       "    .dataframe tbody tr th:only-of-type {\n",
       "        vertical-align: middle;\n",
       "    }\n",
       "\n",
       "    .dataframe tbody tr th {\n",
       "        vertical-align: top;\n",
       "    }\n",
       "\n",
       "    .dataframe thead th {\n",
       "        text-align: right;\n",
       "    }\n",
       "</style>\n",
       "<table border=\"1\" class=\"dataframe\">\n",
       "  <thead>\n",
       "    <tr style=\"text-align: right;\">\n",
       "      <th></th>\n",
       "      <th>User</th>\n",
       "      <th>Tweet</th>\n",
       "      <th>Datetime</th>\n",
       "    </tr>\n",
       "  </thead>\n",
       "  <tbody>\n",
       "    <tr>\n",
       "      <th>1</th>\n",
       "      <td>@KueddeR</td>\n",
       "      <td>RT @Nebelspalter: Das gab es noch nie: Bundesk...</td>\n",
       "      <td>May 23, 2015 at 06:05PM</td>\n",
       "    </tr>\n",
       "    <tr>\n",
       "      <th>2</th>\n",
       "      <td>@silver_train</td>\n",
       "      <td>@diuuk Sicher nicht. Das #RTVG ist die falsche...</td>\n",
       "      <td>May 23, 2015 at 06:12PM</td>\n",
       "    </tr>\n",
       "    <tr>\n",
       "      <th>3</th>\n",
       "      <td>@peter_schibli</td>\n",
       "      <td>RT @rtvgja: Keine Billag-Schnüffler mehr? Ja b...</td>\n",
       "      <td>May 23, 2015 at 06:25PM</td>\n",
       "    </tr>\n",
       "    <tr>\n",
       "      <th>4</th>\n",
       "      <td>@peter_schibli</td>\n",
       "      <td>RT @rtvgja: Herr @F_Leutenegger : Distanzieren...</td>\n",
       "      <td>May 23, 2015 at 06:25PM</td>\n",
       "    </tr>\n",
       "    <tr>\n",
       "      <th>5</th>\n",
       "      <td>@bkuonen</td>\n",
       "      <td>Jetzt wo ich weiss, dass CL, #superleague und ...</td>\n",
       "      <td>May 23, 2015 at 06:32PM</td>\n",
       "    </tr>\n",
       "  </tbody>\n",
       "</table>\n",
       "</div>"
      ],
      "text/plain": [
       "             User                                              Tweet  \\\n",
       "1        @KueddeR  RT @Nebelspalter: Das gab es noch nie: Bundesk...   \n",
       "2   @silver_train  @diuuk Sicher nicht. Das #RTVG ist die falsche...   \n",
       "3  @peter_schibli  RT @rtvgja: Keine Billag-Schnüffler mehr? Ja b...   \n",
       "4  @peter_schibli  RT @rtvgja: Herr @F_Leutenegger : Distanzieren...   \n",
       "5        @bkuonen  Jetzt wo ich weiss, dass CL, #superleague und ...   \n",
       "\n",
       "                  Datetime  \n",
       "1  May 23, 2015 at 06:05PM  \n",
       "2  May 23, 2015 at 06:12PM  \n",
       "3  May 23, 2015 at 06:25PM  \n",
       "4  May 23, 2015 at 06:25PM  \n",
       "5  May 23, 2015 at 06:32PM  "
      ]
     },
     "execution_count": 4,
     "metadata": {},
     "output_type": "execute_result"
    }
   ],
   "source": [
    "# Spalten benennen\n",
    "data_raw.columns = ['User', 'Tweet', 'Datetime']\n",
    "data_raw.head(5)"
   ]
  },
  {
   "cell_type": "code",
   "execution_count": 5,
   "metadata": {},
   "outputs": [
    {
     "data": {
      "text/html": [
       "<div>\n",
       "<style scoped>\n",
       "    .dataframe tbody tr th:only-of-type {\n",
       "        vertical-align: middle;\n",
       "    }\n",
       "\n",
       "    .dataframe tbody tr th {\n",
       "        vertical-align: top;\n",
       "    }\n",
       "\n",
       "    .dataframe thead th {\n",
       "        text-align: right;\n",
       "    }\n",
       "</style>\n",
       "<table border=\"1\" class=\"dataframe\">\n",
       "  <thead>\n",
       "    <tr style=\"text-align: right;\">\n",
       "      <th></th>\n",
       "      <th>User</th>\n",
       "      <th>Tweet</th>\n",
       "      <th>Datetime</th>\n",
       "    </tr>\n",
       "  </thead>\n",
       "  <tbody>\n",
       "    <tr>\n",
       "      <th>501</th>\n",
       "      <td>@valabg</td>\n",
       "      <td>„Warum sollte ich 1 Bahnfahrkarte kaufen? Der ...</td>\n",
       "      <td>October 31, 2017 at 03:17PM</td>\n",
       "    </tr>\n",
       "    <tr>\n",
       "      <th>502</th>\n",
       "      <td>@MikeBould3r</td>\n",
       "      <td>@NatalieRickli Arbeitet für eine TV-Werbeagent...</td>\n",
       "      <td>October 31, 2017 at 03:17PM</td>\n",
       "    </tr>\n",
       "    <tr>\n",
       "      <th>503</th>\n",
       "      <td>@GyzTuufel</td>\n",
       "      <td>RT @peterhettich: Kollege Prof. Mark Schelker ...</td>\n",
       "      <td>October 31, 2017 at 03:17PM</td>\n",
       "    </tr>\n",
       "    <tr>\n",
       "      <th>504</th>\n",
       "      <td>@PeerStonebridge</td>\n",
       "      <td>RT @NZZ: #SRG-Mitarbeiter werfen ihren Chefs V...</td>\n",
       "      <td>October 31, 2017 at 03:21PM</td>\n",
       "    </tr>\n",
       "    <tr>\n",
       "      <th>505</th>\n",
       "      <td>@karstenpater</td>\n",
       "      <td>RT @srgwatch: Die (Un-)Logik der Fernseh-Steue...</td>\n",
       "      <td>October 31, 2017 at 03:27PM</td>\n",
       "    </tr>\n",
       "    <tr>\n",
       "      <th>506</th>\n",
       "      <td>@LahorJakrlin</td>\n",
       "      <td>@ZeitRauber @bglaettli @gebizzle ... oder sie ...</td>\n",
       "      <td>October 31, 2017 at 03:27PM</td>\n",
       "    </tr>\n",
       "    <tr>\n",
       "      <th>507</th>\n",
       "      <td>@ThomasLaeubli</td>\n",
       "      <td>@ZeitRauber @VinzenzWyss @FelixSchneuwly @thia...</td>\n",
       "      <td>October 31, 2017 at 03:27PM</td>\n",
       "    </tr>\n",
       "    <tr>\n",
       "      <th>508</th>\n",
       "      <td>@bdrtschr</td>\n",
       "      <td>RT @nachdenkend: Ein nicht unbekannter Werber ...</td>\n",
       "      <td>October 31, 2017 at 03:35PM</td>\n",
       "    </tr>\n",
       "    <tr>\n",
       "      <th>509</th>\n",
       "      <td>@attila_gaspar</td>\n",
       "      <td>RT @MarcBuergi: Liebe Freunde, Kolleginnen und...</td>\n",
       "      <td>October 31, 2017 at 03:38PM</td>\n",
       "    </tr>\n",
       "    <tr>\n",
       "      <th>510</th>\n",
       "      <td>@Kiamara91</td>\n",
       "      <td>RT @srgwatch: Die (Un-)Logik der Fernseh-Steue...</td>\n",
       "      <td>October 31, 2017 at 03:39PM</td>\n",
       "    </tr>\n",
       "  </tbody>\n",
       "</table>\n",
       "</div>"
      ],
      "text/plain": [
       "                 User                                              Tweet  \\\n",
       "501           @valabg  „Warum sollte ich 1 Bahnfahrkarte kaufen? Der ...   \n",
       "502      @MikeBould3r  @NatalieRickli Arbeitet für eine TV-Werbeagent...   \n",
       "503        @GyzTuufel  RT @peterhettich: Kollege Prof. Mark Schelker ...   \n",
       "504  @PeerStonebridge  RT @NZZ: #SRG-Mitarbeiter werfen ihren Chefs V...   \n",
       "505     @karstenpater  RT @srgwatch: Die (Un-)Logik der Fernseh-Steue...   \n",
       "506     @LahorJakrlin  @ZeitRauber @bglaettli @gebizzle ... oder sie ...   \n",
       "507    @ThomasLaeubli  @ZeitRauber @VinzenzWyss @FelixSchneuwly @thia...   \n",
       "508         @bdrtschr  RT @nachdenkend: Ein nicht unbekannter Werber ...   \n",
       "509    @attila_gaspar  RT @MarcBuergi: Liebe Freunde, Kolleginnen und...   \n",
       "510        @Kiamara91  RT @srgwatch: Die (Un-)Logik der Fernseh-Steue...   \n",
       "\n",
       "                        Datetime  \n",
       "501  October 31, 2017 at 03:17PM  \n",
       "502  October 31, 2017 at 03:17PM  \n",
       "503  October 31, 2017 at 03:17PM  \n",
       "504  October 31, 2017 at 03:21PM  \n",
       "505  October 31, 2017 at 03:27PM  \n",
       "506  October 31, 2017 at 03:27PM  \n",
       "507  October 31, 2017 at 03:27PM  \n",
       "508  October 31, 2017 at 03:35PM  \n",
       "509  October 31, 2017 at 03:38PM  \n",
       "510  October 31, 2017 at 03:39PM  "
      ]
     },
     "execution_count": 5,
     "metadata": {},
     "output_type": "execute_result"
    }
   ],
   "source": [
    "# Daten begutachten\n",
    "data_raw.iloc[500:510]"
   ]
  },
  {
   "cell_type": "code",
   "execution_count": 6,
   "metadata": {},
   "outputs": [
    {
     "data": {
      "text/plain": [
       "@sms2sms            1548\n",
       "@MiniSchwiz         1487\n",
       "@KarlMller13        1266\n",
       "@RolfMll35367465    1185\n",
       "@_macmike           1093\n",
       "@morvjn              903\n",
       "@HeinzLindenmann     894\n",
       "@DailyTalk           807\n",
       "@ProBillag           747\n",
       "@tevau42             733\n",
       "@person_tw           730\n",
       "@LahorJakrlin        699\n",
       "@scentedrebel        680\n",
       "@bikejourno          633\n",
       "@byebyebillag        619\n",
       "@SwissLibArmy        617\n",
       "@kindlimann          575\n",
       "@Voegizug            558\n",
       "@wahlch15            554\n",
       "@NoSendeschluss      545\n",
       "Name: User, dtype: int64"
      ]
     },
     "execution_count": 6,
     "metadata": {},
     "output_type": "execute_result"
    }
   ],
   "source": [
    "# Top-User ermitteln\n",
    "data_raw.User.value_counts(dropna=False).head(20)"
   ]
  },
  {
   "cell_type": "code",
   "execution_count": 7,
   "metadata": {},
   "outputs": [],
   "source": [
    "# Datensatz zu timeseries ändern\n",
    "data_raw.Datetime.describe()\n",
    "data_raw.Datetime = pd.to_datetime(data_raw.Datetime)\n",
    "data_raw = data_raw.set_index('Datetime')\n",
    "data_raw = data_raw['2017':'2018'] "
   ]
  },
  {
   "cell_type": "code",
   "execution_count": 8,
   "metadata": {},
   "outputs": [
    {
     "data": {
      "text/html": [
       "<div>\n",
       "<style scoped>\n",
       "    .dataframe tbody tr th:only-of-type {\n",
       "        vertical-align: middle;\n",
       "    }\n",
       "\n",
       "    .dataframe tbody tr th {\n",
       "        vertical-align: top;\n",
       "    }\n",
       "\n",
       "    .dataframe thead th {\n",
       "        text-align: right;\n",
       "    }\n",
       "</style>\n",
       "<table border=\"1\" class=\"dataframe\">\n",
       "  <thead>\n",
       "    <tr style=\"text-align: right;\">\n",
       "      <th></th>\n",
       "      <th>User</th>\n",
       "      <th>Tweet</th>\n",
       "    </tr>\n",
       "    <tr>\n",
       "      <th>Datetime</th>\n",
       "      <th></th>\n",
       "      <th></th>\n",
       "    </tr>\n",
       "  </thead>\n",
       "  <tbody>\n",
       "    <tr>\n",
       "      <th>2017-10-31 09:59:00</th>\n",
       "      <td>@kindlimann</td>\n",
       "      <td>Das #RTVG-Feedback sowas von ernstgenommen. #H...</td>\n",
       "    </tr>\n",
       "    <tr>\n",
       "      <th>2017-10-31 09:59:00</th>\n",
       "      <td>@urshafner1</td>\n",
       "      <td>RT @rolnam: ich will die nationalistische #SVP...</td>\n",
       "    </tr>\n",
       "    <tr>\n",
       "      <th>2017-10-31 09:59:00</th>\n",
       "      <td>@kindlimann</td>\n",
       "      <td>Das #RTVG-Feedback sowas von ernstgenommen. #H...</td>\n",
       "    </tr>\n",
       "    <tr>\n",
       "      <th>2017-10-31 10:04:00</th>\n",
       "      <td>@HansruediWidmer</td>\n",
       "      <td>@basilanderau Ah. Sorry. #nobillag-Befürworter...</td>\n",
       "    </tr>\n",
       "    <tr>\n",
       "      <th>2017-10-31 10:04:00</th>\n",
       "      <td>@sms2sms</td>\n",
       "      <td>@rico_caviezel @mikehabegger1 @SRF @srg_d (dum...</td>\n",
       "    </tr>\n",
       "  </tbody>\n",
       "</table>\n",
       "</div>"
      ],
      "text/plain": [
       "                                 User  \\\n",
       "Datetime                                \n",
       "2017-10-31 09:59:00       @kindlimann   \n",
       "2017-10-31 09:59:00       @urshafner1   \n",
       "2017-10-31 09:59:00       @kindlimann   \n",
       "2017-10-31 10:04:00  @HansruediWidmer   \n",
       "2017-10-31 10:04:00          @sms2sms   \n",
       "\n",
       "                                                                 Tweet  \n",
       "Datetime                                                                \n",
       "2017-10-31 09:59:00  Das #RTVG-Feedback sowas von ernstgenommen. #H...  \n",
       "2017-10-31 09:59:00  RT @rolnam: ich will die nationalistische #SVP...  \n",
       "2017-10-31 09:59:00  Das #RTVG-Feedback sowas von ernstgenommen. #H...  \n",
       "2017-10-31 10:04:00  @basilanderau Ah. Sorry. #nobillag-Befürworter...  \n",
       "2017-10-31 10:04:00  @rico_caviezel @mikehabegger1 @SRF @srg_d (dum...  "
      ]
     },
     "execution_count": 8,
     "metadata": {},
     "output_type": "execute_result"
    }
   ],
   "source": [
    "data_raw.head(5)"
   ]
  },
  {
   "cell_type": "code",
   "execution_count": 9,
   "metadata": {},
   "outputs": [],
   "source": [
    "# Retweets markieren\n",
    "check_for_retweets = lambda x: True if str(x)[:2] == 'RT' else False\n",
    "data_raw['Retweet'] = data_raw['Tweet'].apply(check_for_retweets)\n",
    "\n",
    "# Urheber von Original-Tweet ermitteln\n",
    "find_tweet_orig = lambda x: str(x).split()[1][:-1] if str(x)[:2] == 'RT' else np.nan\n",
    "data_raw['RT_from'] = data_raw['Tweet'].apply(find_tweet_orig)\n",
    "\n",
    "# Tweets die keine Antworten oder Retweets sind markieren\n",
    "check_orig_tweet = lambda x: True if str(x)[:2] != 'RT' and str(x)[:1] != '@' else False\n",
    "data_raw['Orig_Tweet'] = data_raw['Tweet'].apply(check_orig_tweet)\n",
    "\n",
    "# Alle Diskussionsteilnehmer (ausser Urheber von RTs) ermitteln\n",
    "def find_tweet_participants(tweet):\n",
    "    handle_list = re.findall(r'\\@\\w+', str(tweet))\n",
    "    if str(tweet)[:2] == 'RT' and handle_list:\n",
    "        del handle_list[0]\n",
    "    return handle_list\n",
    "data_raw['Tweet_Participants'] = data_raw['Tweet'].apply(find_tweet_participants)\n",
    "\n",
    "# Vermutliche Replies markieren\n",
    "check_reply = lambda x: True if str(x)[:1] == '@' else False\n",
    "data_raw['Reply'] = data_raw['Tweet'].apply(check_reply)\n",
    "\n",
    "# Links aus Tweets extrahieren\n",
    "find_links = lambda x: re.findall(r\"http\\S+\", x)\n",
    "data_raw['Link'] = data_raw['Tweet'].apply(find_links)\n",
    "data_raw['Tweet'] = data_raw['Tweet'].apply(lambda x: re.sub(r\"http\\S+\", '', x))\n",
    "\n",
    "# Reinen Text aus Tweet etrahieren\n",
    "clean_tweet = lambda x: ' '.join([word for word in str(x).split() if word != 'RT' and bool(re.match('\\@', word)) != True])\n",
    "data_raw['Text'] = data_raw['Tweet'].apply(clean_tweet)\n",
    "\n",
    "# Tags aus Tweet etrahieren\n",
    "find_tweet_tags = lambda x: [tweet[1:] for tweet in re.findall(r'\\#\\w+', str(x))]\n",
    "data_raw['Tags'] = data_raw['Tweet'].apply(find_tweet_tags)"
   ]
  },
  {
   "cell_type": "code",
   "execution_count": null,
   "metadata": {},
   "outputs": [],
   "source": [
    "# Sprache der Tweets ermitteln - Achtung: dauert lange\n",
    "def detect_language(text, tags):\n",
    "        try:\n",
    "            return detect(text + ' '.join(tags))\n",
    "        except:\n",
    "            print(\"Language cannot be recognised.\")\n",
    "            return False\n",
    "data_raw['Lang'] = data_raw.apply(lambda row: detect_language(row['Text'], row['Tags']), axis=1)"
   ]
  },
  {
   "cell_type": "code",
   "execution_count": null,
   "metadata": {},
   "outputs": [],
   "source": [
    "# Top RT ermitteln\n",
    "data_raw.RT_from.value_counts(dropna=False).head(10)"
   ]
  },
  {
   "cell_type": "code",
   "execution_count": null,
   "metadata": {},
   "outputs": [],
   "source": [
    "# Kodierte Sprachen ermitteln\n",
    "data_raw.Lang.value_counts(dropna=False)"
   ]
  },
  {
   "cell_type": "code",
   "execution_count": null,
   "metadata": {},
   "outputs": [],
   "source": [
    "# Daten zwischenspeichern\n",
    "data_raw.to_pickle('data_modified/tweets.pkl')"
   ]
  }
 ],
 "metadata": {
  "kernelspec": {
   "display_name": "Python 3",
   "language": "python",
   "name": "python3"
  },
  "language_info": {
   "codemirror_mode": {
    "name": "ipython",
    "version": 3
   },
   "file_extension": ".py",
   "mimetype": "text/x-python",
   "name": "python",
   "nbconvert_exporter": "python",
   "pygments_lexer": "ipython3",
   "version": "3.6.5"
  }
 },
 "nbformat": 4,
 "nbformat_minor": 2
}
